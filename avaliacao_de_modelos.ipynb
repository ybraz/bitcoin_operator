{
 "cells": [
  {
   "cell_type": "markdown",
   "metadata": {},
   "source": [
    "# Avaliação de Modelos"
   ]
  },
  {
   "cell_type": "code",
   "execution_count": 64,
   "metadata": {},
   "outputs": [],
   "source": [
    "# Importando as bibliotecas necessárias\n",
    "import pandas as pd\n",
    "import numpy as np\n",
    "import joblib\n",
    "import matplotlib.pyplot as plt\n",
    "\n",
    "from sklearn.pipeline import Pipeline\n",
    "from sklearn.preprocessing import StandardScaler\n",
    "from sklearn.model_selection import train_test_split, GridSearchCV\n",
    "from sklearn.metrics import classification_report, confusion_matrix, f1_score\n",
    "\n",
    "# Importação dos classificadores\n",
    "from sklearn.linear_model import LogisticRegression\n",
    "from sklearn.neighbors import KNeighborsClassifier\n",
    "from sklearn.tree import DecisionTreeClassifier\n",
    "from sklearn.ensemble import RandomForestClassifier, GradientBoostingClassifier, AdaBoostClassifier\n",
    "from sklearn.svm import SVC\n",
    "from sklearn.naive_bayes import GaussianNB\n",
    "from sklearn.neural_network import MLPClassifier"
   ]
  },
  {
   "cell_type": "code",
   "execution_count": 65,
   "metadata": {},
   "outputs": [],
   "source": [
    "# Carregar os dados gerados (merged_data.csv)\n",
    "data = pd.read_csv(\"merged_data.csv\")"
   ]
  },
  {
   "cell_type": "code",
   "execution_count": 66,
   "metadata": {},
   "outputs": [],
   "source": [
    "# Seleciona apenas as colunas numéricas (incluindo as 21 features)\n",
    "data = data.select_dtypes(include=[np.number])"
   ]
  },
  {
   "cell_type": "code",
   "execution_count": 67,
   "metadata": {},
   "outputs": [],
   "source": [
    "# Excluir colunas indesejadas\n",
    "colunas_excluir = [\n",
    "    \"open\",\n",
    "    \"high\",\n",
    "    \"low\",\n",
    "    \"close\",\n",
    "    \"volume\",\n",
    "    \"variation\",\n",
    "    \"vix_open\",\n",
    "    \"vix_high\",\n",
    "    \"vix_low\",\n",
    "    \"vix_close\",\n",
    "    \"vix_variation\",\n",
    "    \"vix_mean\",\n",
    "]\n",
    "data = data.drop(columns=colunas_excluir)"
   ]
  },
  {
   "cell_type": "code",
   "execution_count": 68,
   "metadata": {},
   "outputs": [],
   "source": [
    "# Separar variáveis de entrada e saída\n",
    "X = data.drop(\"indication\", axis=1)\n",
    "y = data[\"indication\"]"
   ]
  },
  {
   "cell_type": "code",
   "execution_count": 69,
   "metadata": {},
   "outputs": [],
   "source": [
    "# Dividir os dados em treino e teste\n",
    "X_train, X_test, y_train, y_test = train_test_split(\n",
    "    X, y, test_size=0.2, stratify=y, random_state=42\n",
    ")"
   ]
  },
  {
   "cell_type": "markdown",
   "metadata": {},
   "source": [
    "A seguir iremos definir a função evaluate_model, que avalia o desempenho de um modelo treinado utilizando um conjunto de teste. Ela primeiro gera as previsões do modelo para os dados de teste com o método predict, e em seguida imprime a matriz de confusão, que mostra os acertos e erros do classificador, e o relatório de classificação, que detalha métricas como precisão, recall e f1-score para cada classe. Por fim, a função calcula e retorna o f1_score com média macro, que é a média do f1-score de todas as classes, garantindo uma avaliação equilibrada mesmo em casos de classes desbalanceadas."
   ]
  },
  {
   "cell_type": "code",
   "execution_count": 70,
   "metadata": {},
   "outputs": [],
   "source": [
    "# Função para avaliar o modelo (exibe a matriz de confusão, relatório e retorna o f1_macro)\n",
    "def evaluate_model(model, X_test, y_test):\n",
    "    predictions = model.predict(X_test)\n",
    "    print(\"Matriz de Confusão:\")\n",
    "    print(confusion_matrix(y_test, predictions))\n",
    "    print(\"\\nRelatório de Classificação:\")\n",
    "    print(classification_report(y_test, predictions))\n",
    "    return f1_score(y_test, predictions, average='macro')"
   ]
  },
  {
   "cell_type": "code",
   "execution_count": 71,
   "metadata": {},
   "outputs": [],
   "source": [
    "# Dicionário com alguns classificadores e seus hiperparâmetros para busca em grade\n",
    "modelos = {\n",
    "    \"LogisticRegression\": {\n",
    "        \"model\": LogisticRegression(max_iter=10000, solver=\"lbfgs\"),\n",
    "        \"params\": {\n",
    "            \"C\": [0.1, 1, 10, 100],\n",
    "            \"class_weight\": [None, \"balanced\"]\n",
    "        }\n",
    "    },\n",
    "    \"KNeighborsClassifier\": {\n",
    "        \"model\": KNeighborsClassifier(),\n",
    "        \"params\": {\n",
    "            \"n_neighbors\": [3, 5, 7, 9],\n",
    "            \"weights\": [\"uniform\", \"distance\"]\n",
    "        }\n",
    "    },\n",
    "    \"DecisionTreeClassifier\": {\n",
    "        \"model\": DecisionTreeClassifier(),\n",
    "        \"params\": {\n",
    "            \"max_depth\": [None, 5, 10, 20],\n",
    "            \"min_samples_split\": [2, 5, 10]\n",
    "        }\n",
    "    },\n",
    "    \"RandomForestClassifier\": {\n",
    "        \"model\": RandomForestClassifier(),\n",
    "        \"params\": {\n",
    "            \"n_estimators\": [100, 200],\n",
    "            \"max_depth\": [None, 5, 10, 20],\n",
    "            \"min_samples_split\": [2, 5, 10]\n",
    "        }\n",
    "    },\n",
    "    \"GradientBoostingClassifier\": {\n",
    "        \"model\": GradientBoostingClassifier(),\n",
    "        \"params\": {\n",
    "            \"n_estimators\": [100, 200],\n",
    "            \"learning_rate\": [0.01, 0.1, 0.2],\n",
    "            \"max_depth\": [3, 5, 7]\n",
    "        }\n",
    "    },\n",
    "    \"AdaBoostClassifier\": {\n",
    "        \"model\": AdaBoostClassifier(),\n",
    "        \"params\": {\n",
    "            \"n_estimators\": [50, 100, 200],\n",
    "            \"learning_rate\": [0.01, 0.1, 1, 10]\n",
    "        }\n",
    "    },\n",
    "    \"SVC\": {\n",
    "        \"model\": SVC(),\n",
    "        \"params\": {\n",
    "            \"C\": [0.1, 1, 10, 100],\n",
    "            \"kernel\": [\"linear\", \"rbf\"],\n",
    "            \"gamma\": [\"scale\", \"auto\"]\n",
    "        }\n",
    "    },\n",
    "    \"GaussianNB\": {\n",
    "        \"model\": GaussianNB(),\n",
    "        \"params\": {\n",
    "            \"var_smoothing\": [1e-9, 1e-8, 1e-7]\n",
    "        }\n",
    "    },\n",
    "    # \"RedeNeural\": {\n",
    "    #     \"model\": MLPClassifier(max_iter=5000, random_state=42),\n",
    "    #     \"params\": {\n",
    "    #         \"hidden_layer_sizes\": [\n",
    "    #             (50,), (100,), (200,), \n",
    "    #             (50,50), (100,50,25), (100,100,), (150,100,50)\n",
    "    #         ],\n",
    "    #         \"activation\": [\"relu\", \"tanh\", \"logistic\"],\n",
    "    #         \"alpha\": [1e-5, 1e-4, 1e-3, 1e-2],\n",
    "    #         \"solver\": [\"adam\", \"sgd\"],\n",
    "    #         \"learning_rate\": [\"constant\", \"adaptive\"],\n",
    "    #         \"learning_rate_init\": [0.001, 0.01, 0.1],\n",
    "    #         \"momentum\": [0.9, 0.95]  # Só é considerado se o solver for 'sgd'\n",
    "    #     }\n",
    "    # },\n",
    "}"
   ]
  },
  {
   "cell_type": "markdown",
   "metadata": {},
   "source": [
    "Abaixo iremos definir a função test_all_models. Esta função realiza uma busca e avaliação de diversos modelos de classificação definidos em um dicionário. Para cada modelo, ela cria um pipeline que inclui um escalonamento padrão com o StandardScaler e o próprio classificador, definindo um espaço de hiperparâmetros (com prefixo \"clf__\") para serem otimizados via GridSearchCV. O GridSearchCV executa uma validação cruzada de 5 folds utilizando o f1_macro como métrica de desempenho, encontrando os melhores parâmetros para cada modelo.\n",
    "\n",
    "Em seguida, a função coleta os resultados de cada modelo, armazenando a média da pontuação de validação cruzada (CV f1_macro), a pontuação no conjunto de teste (Teste f1_macro) e os melhores hiperparâmetros encontrados. Essa avaliação dupla permite comparar o desempenho do modelo tanto em dados vistos (durante a validação cruzada) quanto em dados novos (conjunto de teste), proporcionando uma visão mais completa da capacidade de generalização de cada modelo. Os resultados são organizados em um dicionário para facilitar a análise comparativa.\n",
    "\n",
    "Por fim, a função identifica o modelo com a melhor performance baseada na métrica de validação cruzada e o avalia detalhadamente no conjunto de teste através de uma função auxiliar (evaluate_model), que exibe a matriz de confusão e o relatório de classificação. Adicionalmente, é gerado um gráfico de barras comparando as pontuações dos modelos no conjunto de validação e de teste, permitindo uma visualização rápida do desempenho relativo de cada abordagem. O melhor modelo e os resultados de todos os modelos são retornados para posterior análise ou uso em produção."
   ]
  },
  {
   "cell_type": "markdown",
   "metadata": {},
   "source": [
    "O **f1 score** é uma métrica que combina a precisão (quantos dos positivos previstos estão corretos) e o recall (quantos dos positivos reais foram identificados) em uma única medida, calculada como a média harmônica entre eles. Essa métrica é especialmente útil quando há um desbalanceamento entre as classes, pois ela penaliza fortemente valores baixos em precisão ou recall, fornecendo uma visão equilibrada do desempenho do modelo.\n",
    "\n",
    "**CV f1_macro**: Média do f1 score calculado em várias partições (folds) dos dados de treinamento, que mostra como o modelo se comporta internamente durante a validação cruzada.\n",
    "\n",
    "**Teste f1_macro**: f1 score calculado no conjunto de teste, que indica o desempenho do modelo em dados novos e não vistos durante o treinamento."
   ]
  },
  {
   "cell_type": "code",
   "execution_count": 72,
   "metadata": {},
   "outputs": [
    {
     "name": "stdout",
     "output_type": "stream",
     "text": [
      "Treinando LogisticRegression...\n",
      "CV f1_macro: 0.9083\n",
      "Teste f1_macro: 0.9034\n",
      "Melhores hiperparâmetros para LogisticRegression: {'clf__C': 100, 'clf__class_weight': 'balanced'}\n",
      "\n",
      "Treinando KNeighborsClassifier...\n",
      "CV f1_macro: 0.4929\n",
      "Teste f1_macro: 0.5210\n",
      "Melhores hiperparâmetros para KNeighborsClassifier: {'clf__n_neighbors': 5, 'clf__weights': 'uniform'}\n",
      "\n",
      "Treinando DecisionTreeClassifier...\n",
      "CV f1_macro: 0.5271\n",
      "Teste f1_macro: 0.5192\n",
      "Melhores hiperparâmetros para DecisionTreeClassifier: {'clf__max_depth': None, 'clf__min_samples_split': 2}\n",
      "\n",
      "Treinando RandomForestClassifier...\n",
      "CV f1_macro: 0.5016\n",
      "Teste f1_macro: 0.5482\n",
      "Melhores hiperparâmetros para RandomForestClassifier: {'clf__max_depth': 20, 'clf__min_samples_split': 10, 'clf__n_estimators': 200}\n",
      "\n",
      "Treinando GradientBoostingClassifier...\n",
      "CV f1_macro: 0.5889\n",
      "Teste f1_macro: 0.6262\n",
      "Melhores hiperparâmetros para GradientBoostingClassifier: {'clf__learning_rate': 0.2, 'clf__max_depth': 5, 'clf__n_estimators': 200}\n",
      "\n",
      "Treinando AdaBoostClassifier...\n",
      "CV f1_macro: 0.4782\n",
      "Teste f1_macro: 0.5174\n",
      "Melhores hiperparâmetros para AdaBoostClassifier: {'clf__learning_rate': 1, 'clf__n_estimators': 200}\n",
      "\n",
      "Treinando SVC...\n",
      "CV f1_macro: 0.8144\n",
      "Teste f1_macro: 0.8165\n",
      "Melhores hiperparâmetros para SVC: {'clf__C': 100, 'clf__gamma': 'scale', 'clf__kernel': 'linear'}\n",
      "\n",
      "Treinando GaussianNB...\n",
      "CV f1_macro: 0.4686\n",
      "Teste f1_macro: 0.4799\n",
      "Melhores hiperparâmetros para GaussianNB: {'clf__var_smoothing': 1e-09}\n",
      "\n",
      "=================================================\n",
      "Melhor modelo: LogisticRegression\n",
      "CV f1_macro: 0.9083\n",
      "Melhores hiperparâmetros: {'clf__C': 100, 'clf__class_weight': 'balanced'}\n",
      "=================================================\n",
      "Avaliação do melhor modelo (LogisticRegression) no conjunto de teste:\n",
      "Matriz de Confusão:\n",
      "[[203  14]\n",
      " [ 22 143]]\n",
      "\n",
      "Relatório de Classificação:\n",
      "              precision    recall  f1-score   support\n",
      "\n",
      "           0       0.90      0.94      0.92       217\n",
      "           1       0.91      0.87      0.89       165\n",
      "\n",
      "    accuracy                           0.91       382\n",
      "   macro avg       0.91      0.90      0.90       382\n",
      "weighted avg       0.91      0.91      0.91       382\n",
      "\n"
     ]
    },
    {
     "data": {
      "image/png": "[encoded data removed]",
      "text/plain": [
       "<Figure size 1000x600 with 1 Axes>"
      ]
     },
     "metadata": {},
     "output_type": "display_data"
    }
   ],
   "source": [
    "# Função que testa todos os modelos do dicionário usando GridSearchCV\n",
    "def test_all_models(modelos, X_train, y_train, X_test, y_test):\n",
    "    melhor_modelo_nome = None\n",
    "    melhor_score = -np.inf\n",
    "    melhor_modelo = None\n",
    "    melhor_params = None\n",
    "    resultados = {}\n",
    "\n",
    "    for nome, info in modelos.items():\n",
    "        print(f\"Treinando {nome}...\")\n",
    "        # Cria pipeline com StandardScaler e o classificador\n",
    "        pipeline = Pipeline([\n",
    "            (\"scaler\", StandardScaler()),\n",
    "            (\"clf\", info[\"model\"])\n",
    "        ])\n",
    "        # Adiciona o prefixo 'clf__' aos hiperparâmetros para o GridSearchCV\n",
    "        param_grid = {f\"clf__{param}\": valores for param, valores in info[\"params\"].items()}\n",
    "        \n",
    "        grid = GridSearchCV(pipeline, param_grid, cv=5, scoring='f1_macro', n_jobs=-1)\n",
    "        grid.fit(X_train, y_train)\n",
    "        \n",
    "        # Coleta resultados do GridSearch\n",
    "        best_params = grid.best_params_\n",
    "        cv_score = grid.best_score_\n",
    "        test_score = f1_score(y_test, grid.predict(X_test), average='macro')\n",
    "        \n",
    "        resultados[nome] = {\n",
    "            \"cv_score\": cv_score,\n",
    "            \"test_score\": test_score,\n",
    "            \"best_params\": best_params,\n",
    "            \"best_estimator\": grid.best_estimator_\n",
    "        }\n",
    "        \n",
    "        print(f\"CV f1_macro: {cv_score:.4f}\")\n",
    "        print(f\"Teste f1_macro: {test_score:.4f}\")\n",
    "        print(f\"Melhores hiperparâmetros para {nome}: {best_params}\\n\")\n",
    "        \n",
    "        # Verifica se esse modelo foi o melhor até o momento\n",
    "        if cv_score > melhor_score:\n",
    "            melhor_score = cv_score\n",
    "            melhor_modelo_nome = nome\n",
    "            melhor_modelo = grid.best_estimator_\n",
    "            melhor_params = best_params\n",
    "\n",
    "    print(\"=================================================\")\n",
    "    print(f\"Melhor modelo: {melhor_modelo_nome}\")\n",
    "    print(f\"CV f1_macro: {melhor_score:.4f}\")\n",
    "    print(f\"Melhores hiperparâmetros: {melhor_params}\")\n",
    "    print(\"=================================================\")\n",
    "    \n",
    "    print(f\"Avaliação do melhor modelo ({melhor_modelo_nome}) no conjunto de teste:\")\n",
    "    evaluate_model(melhor_modelo, X_test, y_test)\n",
    "    \n",
    "    # Cria gráfico comparativo de desempenho entre CV e teste\n",
    "    nomes_modelos = list(resultados.keys())\n",
    "    cv_scores = [resultados[modelo][\"cv_score\"] for modelo in nomes_modelos]\n",
    "    test_scores = [resultados[modelo][\"test_score\"] for modelo in nomes_modelos]\n",
    "    \n",
    "    x = range(len(nomes_modelos))\n",
    "    plt.figure(figsize=(10, 6))\n",
    "    plt.bar(x, cv_scores, width=0.4, label=\"CV f1_macro\", align=\"center\")\n",
    "    plt.bar([i + 0.4 for i in x], test_scores, width=0.4, label=\"Teste f1_macro\", align=\"center\")\n",
    "    plt.xticks([i + 0.2 for i in x], nomes_modelos, rotation=45)\n",
    "    plt.xlabel(\"Modelos\")\n",
    "    plt.ylabel(\"f1_macro\")\n",
    "    plt.title(\"Comparação de Desempenho dos Modelos\")\n",
    "    plt.legend()\n",
    "    plt.tight_layout()\n",
    "    plt.show()\n",
    "    \n",
    "    return melhor_modelo, resultados\n",
    "\n",
    "# Executa a busca e avaliação de todos os modelos\n",
    "melhor_modelo, resultados = test_all_models(modelos, X_train, y_train, X_test, y_test)\n"
   ]
  },
  {
   "cell_type": "markdown",
   "metadata": {},
   "source": [
    "**LogisticRegression**:\n",
    "- Obteve um CV f1_macro de 0.9083 e um Teste f1_macro de 0.9034, indicando alto desempenho e boa generalização.\n",
    "- Os melhores hiperparâmetros encontrados foram {'clf__C': 100, 'clf__class_weight': 'balanced'}, sugerindo que uma forte regularização com ajuste de peso das classes foi ideal para esse modelo.\n",
    "\n",
    "**Outros Modelos**:\n",
    "- KNeighborsClassifier: Apresentou desempenho baixo com CV f1_macro de 0.4929 e Teste f1_macro de 0.5210, com os melhores hiperparâmetros sendo {'clf__n_neighbors': 5, 'clf__weights': 'uniform'}.\n",
    "- DecisionTreeClassifier: Teve resultados medianos (CV f1_macro: 0.5271, Teste f1_macro: 0.5192), utilizando uma árvore sem limite de profundidade e split mínimo de 2.\n",
    "- RandomForestClassifier: Mostrou desempenho um pouco melhor no teste (CV: 0.5016, Teste: 0.5482) com hiperparâmetros que controlam a profundidade (20), número de divisões (10) e 200 estimadores.\n",
    "- GradientBoostingClassifier e AdaBoostClassifier: Exibiram desempenhos moderados, com GradientBoosting obtendo melhores números (CV: 0.5889, Teste: 0.6262) do que AdaBoost (CV: 0.4782, Teste: 0.5174).\n",
    "- SVC: Demonstrou bom desempenho (CV: 0.8144, Teste: 0.8165) com hiperparâmetros otimizados para um kernel linear e regularização elevada.\n",
    "- GaussianNB: Teve o desempenho mais baixo (CV: 0.4686, Teste: 0.4799), refletindo sua simplicidade em comparação com outros modelos.\n",
    "\n",
    "**Melhor Modelo e Avaliação Final**:\n",
    "- O melhor modelo identificado foi o LogisticRegression, com o mais alto CV f1_macro (0.9083).\n",
    "- A avaliação final no conjunto de teste confirmou seu desempenho robusto, evidenciado por uma matriz de confusão e relatório de classificação que demonstram f1-scores em torno de 0.91 para ambas as classes, reforçando sua capacidade de generalização."
   ]
  },
  {
   "cell_type": "code",
   "execution_count": 54,
   "metadata": {},
   "outputs": [
    {
     "name": "stdout",
     "output_type": "stream",
     "text": [
      "Melhor modelo treinado e salvo como 'best_bitcoin_model.pkl'\n"
     ]
    }
   ],
   "source": [
    "# Salvar o melhor modelo para uso na API\n",
    "joblib.dump(melhor_modelo, \"best_bitcoin_model.pkl\")\n",
    "print(\"Melhor modelo treinado e salvo como 'best_bitcoin_model.pkl'\")"
   ]
  }
 ],
 "metadata": {
  "kernelspec": {
   "display_name": ".venv",
   "language": "python",
   "name": "python3"
  },
  "language_info": {
   "codemirror_mode": {
    "name": "ipython",
    "version": 3
   },
   "file_extension": ".py",
   "mimetype": "text/x-python",
   "name": "python",
   "nbconvert_exporter": "python",
   "pygments_lexer": "ipython3",
   "version": "3.13.1"
  }
 },
 "nbformat": 4,
 "nbformat_minor": 2
}
